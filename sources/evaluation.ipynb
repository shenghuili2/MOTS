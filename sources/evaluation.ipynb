{
 "cells": [
  {
   "cell_type": "code",
   "execution_count": 94,
   "metadata": {},
   "outputs": [
    {
     "data": {
      "text/plain": [
       "'./SyntheticSettings/DAGs/50 nodes/8 Cores/dag10_50n_8c.gexf'"
      ]
     },
     "execution_count": 94,
     "metadata": {},
     "output_type": "execute_result"
    }
   ],
   "source": [
    "from gurobipy import *\n",
    "import networkx as nx\n",
    "import matplotlib.pyplot as plt\n",
    "from workflow import *\n",
    "from pilp import *\n",
    "from greedy import *\n",
    "import lbbd\n",
    "import lbbd_\n",
    "import hybrid\n",
    "import heft\n",
    "\n",
    "# num_nodes, num_cores, dag =20, 5, 12\n",
    "# num_nodes, num_cores, dag = 20, 5, 14\n",
    "num_nodes, num_cores, num = 50, 8, 1\n",
    "\n",
    "\n",
    "result_list = []\n",
    "time_list = []\n",
    "iter_list = []\n",
    "for i in range(num, num+10):\n",
    "    workflow_path = \"./SyntheticSettings/DAGs/%d nodes/%d Cores/dag%d_%dn_%dc.gexf\"%\\\n",
    "                    (num_nodes, num_cores, i, num_nodes, num_cores)\n",
    "    system_path = \"./SyntheticSettings/Systems/%dCoreSys.gexf\" % 5\n",
    "\n",
    "    dag = load_dag(workflow_path)\n",
    "    # nx.draw(dag, with_labels=True)\n",
    "    # plt.show()\n",
    "    platform = nx.read_gexf(system_path)\n",
    "    for u, v in platform.edges():\n",
    "        platform[u][v]['bandwidth'] = int(random.randint(50, 100))\n",
    "\n",
    "    for nd in dag.nodes():\n",
    "        for rbt in ['Core%d'%(i) for i in range(6, num_cores)]:\n",
    "            del dag.node[nd][rbt]\n",
    "        for rbt in ['Core%d'%(i) for i in range(1, 6)]:\n",
    "            dag.node[nd][rbt] = int(random.gauss(200, 50))\n",
    "        dag.node[nd]['Core6']  = sum(dag.node[nd][rbt] for rbt in ['Core%d'%(i) for i in range(1, 6)] ) // 5 //5  \n",
    "    for u, v in dag.edges():\n",
    "        dag[u][v]['data'] = int(random.randint(50, 1000))\n",
    "    des_path = './SyntheticSettings/default_dags/%d_nodes/dag_%d.gexf'%(num_nodes, i)\n",
    "    nx.write_gexf(dag, des_path)\n",
    "workflow_path"
   ]
  },
  {
   "cell_type": "code",
   "execution_count": 189,
   "metadata": {
    "collapsed": true
   },
   "outputs": [],
   "source": [
    "makespan =  [1145, 1195, 1238, 1277, 1163, 1153, 1193, 1111, 1238, 1122]\n",
    "time_cost =  [3626.7323772907257, 3625.6984276771545, 3653.6482548713684, 3619.126430749893, 3609.882581472397, 3652.2962608337402, 3658.443059206009, 3615.0458369255066, 3641.965057849884, 3652.522327184677]\n",
    "gap =  [0.12227, 0.14276, 0.166, 0.20535, 0.13328, 0.15785, 0.23818, 0.21512, 0.22294, 0.20232]\n",
    "import pandas as pd\n",
    "df = pd.DataFrame({'makespan' : makespan, 'time_cost' : time_cost,'gap' : gap})\n",
    "df.to_csv('./results/hybrid_50nodes.csv', index=False, header=False)"
   ]
  },
  {
   "cell_type": "code",
   "execution_count": 93,
   "metadata": {
    "collapsed": true
   },
   "outputs": [],
   "source": [
    "makespan = [723, 753, 695, 672, 723, 739, 738, 693, 740, 689]\n",
    "time_cost = [600, 600, 600, 600, 600, 600, 600, 600, 600, 600]\n",
    "gap = [0.472, 0.435, 0.368, 0.413, 0.452, 0.435, 0.428, 0.413, 0.345, 0.467]\n",
    "\n",
    "import pandas as pd\n",
    "df = pd.DataFrame({'makespan' : makespan, 'time_cost' : time_cost,'gap' : gap})\n",
    "df.to_csv('./results/ilp_30nodes.csv', index=False, header=False)"
   ]
  },
  {
   "cell_type": "code",
   "execution_count": 85,
   "metadata": {},
   "outputs": [
    {
     "data": {
      "text/plain": [
       "715.7777777777778"
      ]
     },
     "execution_count": 85,
     "metadata": {},
     "output_type": "execute_result"
    }
   ],
   "source": [
    "makespan=[753, 695, 672, 723, 739, 738, 693, 740, 689]\n",
    "sum(makespan)/len(makespan)"
   ]
  },
  {
   "cell_type": "code",
   "execution_count": 40,
   "metadata": {
    "collapsed": true
   },
   "outputs": [],
   "source": [
    "system_path = \"./SyntheticSettings/Systems/%dCoreSys.gexf\" % 6\n",
    "platform = nx.read_gexf(system_path)\n",
    "for u, v in platform.edges():\n",
    "    if u == 'Core6' or v == 'Core6':\n",
    "            platform[u][v]['bandwidth'] = 20\n",
    "    else:\n",
    "        platform[u][v]['bandwidth'] = int(random.randint(80, 160))\n",
    "des_path = './SyntheticSettings/default_dags/platform.gexf'\n",
    "nx.write_gexf(platform, des_path)"
   ]
  },
  {
   "cell_type": "code",
   "execution_count": 83,
   "metadata": {
    "collapsed": true
   },
   "outputs": [],
   "source": [
    "makespan = [573, 520, 589, 516, 488, 479, 452, 442, 485, 479]\n",
    "time_cost =  [2, 1, 2, 4, 7, 132, 34, 106, 129, 600]\n",
    "gap = [0.0, 0.0, 0.0, 0.0, 0.0, 0.0, 0.0, 0.0, 0.0, 0.04]\n",
    "\n",
    "import pandas as pd\n",
    "df = pd.DataFrame({'makespan' : makespan, 'time_cost' : time_cost,'gap' : gap})\n",
    "df.to_csv('./results/ilp_20nodes.csv', index=False, header=False)"
   ]
  },
  {
   "cell_type": "code",
   "execution_count": 97,
   "metadata": {
    "collapsed": true
   },
   "outputs": [],
   "source": [
    "makespan =  [1255, 1195, 1238, 1277, 1214, 1166, 1193, 1210, 1255, 1137]\n",
    "time_cost =  [20.240309953689575, 14.168118476867676, 36.798572301864624, 26.445485830307007, 15.273441314697266, 12.208611726760864, 3.5158793926239014, 5.1020190715789795, 47.06737184524536, 2.1290500164031982]\n",
    "gap =  [0, 0, 0, 0, 0, 0, 0, 0, 0, 0]\n",
    "import pandas as pd\n",
    "df = pd.DataFrame({'makespan' : makespan, 'time_cost' : time_cost,'gap' : gap})\n",
    "df.to_csv('./results/heft_50nodes.csv', index=False, header=False)"
   ]
  },
  {
   "cell_type": "code",
   "execution_count": 100,
   "metadata": {
    "collapsed": true
   },
   "outputs": [],
   "source": [
    "makespan =  [719, 610, 794, 674, 691, 623, 611, 550, 632, 547]\n",
    "time_cost =  [0.0007631778717041016, 0.0007433891296386719, 0.000850677490234375, 0.0007789134979248047, 0.0007882118225097656, 0.0014312267303466797, 0.0008759498596191406, 0.0017750263214111328, 0.0016715526580810547, 0.0018410682678222656]\n",
    "gap =  [0, 0, 0, 0, 0, 0, 0, 0, 0, 0]\n",
    "import pandas as pd\n",
    "df = pd.DataFrame({'makespan' : makespan, 'time_cost' : time_cost,'gap' : gap})\n",
    "df.to_csv('./results/greedy_20nodes.csv', index=False, header=False)"
   ]
  },
  {
   "cell_type": "code",
   "execution_count": 117,
   "metadata": {
    "collapsed": true
   },
   "outputs": [],
   "source": [
    "makespan =  [1127, 1170, 1129, 1144, 1139, 1101, 1096, 1064, 1196, 1066]\n",
    "time_cost =  [7.845785617828369, 3.198138475418091, 5.8433709144592285, 11.839221477508545, 3.9456260204315186, 4.726963758468628, 7.430063247680664, 8.798797369003296, 5.2278478145599365, 8.441510438919067]\n",
    "gap =  [0, 0, 0, 0, 0, 0, 0, 0, 0, 0]\n",
    "df = pd.DataFrame({'makespan' : makespan, 'time_cost' : time_cost,'gap' : gap})\n",
    "df.to_csv('./results/greedyant_50nodes.csv', index=False, header=False)"
   ]
  },
  {
   "cell_type": "code",
   "execution_count": 120,
   "metadata": {
    "collapsed": true
   },
   "outputs": [],
   "source": [
    "greedy = {num : pd.read_csv('./results/greedy_%dnodes.csv' % num, index_col =None, header=None) for num in [20, 30, 50]}"
   ]
  },
  {
   "cell_type": "code",
   "execution_count": 190,
   "metadata": {},
   "outputs": [
    {
     "data": {
      "image/png": "[encoded data removed]",
      "text/plain": [
       "<matplotlib.figure.Figure at 0x7f1c596b7da0>"
      ]
     },
     "metadata": {},
     "output_type": "display_data"
    }
   ],
   "source": [
    "import numpy as np\n",
    "import matplotlib.pyplot as plt\n",
    "\n",
    "greedy = {num : pd.read_csv('./results/greedy_%dnodes.csv' % num, index_col =None, header=None) for num in [20, 30, 50]}\n",
    "heft = {num : pd.read_csv('./results/heft_%dnodes.csv' % num, index_col =None, header=None) for num in [20, 30, 50]}\n",
    "greedyant = {num : pd.read_csv('./results/greedyant_%dnodes.csv' % num, index_col =None, header=None) for num in [20, 30, 50]}\n",
    "ilp = {num : pd.read_csv('./results/ilp_%dnodes.csv' % num, index_col =None, header=None) for num in [20, 30]}\n",
    "hybrid = {num : pd.read_csv('./results/hybrid_%dnodes.csv' % num, index_col =None, header=None) for num in [20, 30, 50]}\n",
    "\n",
    "N = 3\n",
    "menMeans = (20, 35, 30, 35, 27)\n",
    "womenMeans = (25, 32, 34, 20, 25)\n",
    "menStd = (2, 3, 4, 1, 2)\n",
    "womenStd = (3, 5, 2, 3, 3)\n",
    "ind = np.arange(N)    # the x locations for the groups\n",
    "width = 0.15       # the width of the bars: can also be len(x) sequence\n",
    "\n",
    "p0 = plt.bar(ind-2*width, [np.mean(list(greedy[num][1])) for num in [20, 30, 50]], width)\n",
    "p1 = plt.bar(ind-width, [np.mean(list(heft[num][1])) for num in [20, 30, 50]], width)\n",
    "p2 = plt.bar(ind, [np.mean(list(greedyant[num][1])) for num in [20, 30, 50]], width)\n",
    "p3 = plt.bar(ind+1*width, [np.mean(list(ilp[num][1])) for num in [20, 30]] + [0], width)\n",
    "p3_1 = plt.bar(ind+1*width, [np.mean(list(ilp[num][1] * (1-ilp[num][0]) )) for num in [20, 30]] + [0], width)\n",
    "p4 = plt.bar(ind+2*width, [np.mean(list(hybrid[num][1])) for num in [20, 30, 50]], width)\n",
    "p4_1 = plt.bar(ind+2*width, [np.mean(list(hybrid[num][1] * (1-hybrid[num][0]) )) for num in [20, 30, 50]], width)\n",
    "\n",
    "\n",
    "\n",
    "plt.ylabel('Makespan')\n",
    "plt.title('Impact of number of nodes')\n",
    "plt.xticks(ind, ('20', '30', '50'))\n",
    "# plt.ylim(1100, 1450)\n",
    "# plt.yticks(np.arange(800, 1400))\n",
    "plt.legend((p0[0], p1[0], p2[0], p3[0], p4[0]), ('Greedy', 'HEFT', 'Greedy-ant', 'ILP', 'Hybrid'))\n",
    "\n",
    "plt.show()"
   ]
  },
  {
   "cell_type": "code",
   "execution_count": 184,
   "metadata": {},
   "outputs": [
    {
     "data": {
      "text/plain": [
       "1214.0"
      ]
     },
     "execution_count": 184,
     "metadata": {},
     "output_type": "execute_result"
    }
   ],
   "source": [
    "np.mean(heft[50][1])"
   ]
  },
  {
   "cell_type": "code",
   "execution_count": 192,
   "metadata": {},
   "outputs": [
    {
     "data": {
      "text/plain": [
       "0    1127\n",
       "1    1170\n",
       "2    1129\n",
       "3    1144\n",
       "4    1139\n",
       "5    1101\n",
       "6    1096\n",
       "7    1064\n",
       "8    1196\n",
       "9    1066\n",
       "Name: 1, dtype: int64"
      ]
     },
     "execution_count": 192,
     "metadata": {},
     "output_type": "execute_result"
    }
   ],
   "source": [
    "greedyant[50][1]"
   ]
  },
  {
   "cell_type": "code",
   "execution_count": 196,
   "metadata": {},
   "outputs": [
    {
     "data": {
      "text/plain": [
       "1123.2"
      ]
     },
     "execution_count": 196,
     "metadata": {},
     "output_type": "execute_result"
    }
   ],
   "source": [
    "np.mean(greedyant[50][1])"
   ]
  },
  {
   "cell_type": "code",
   "execution_count": 159,
   "metadata": {},
   "outputs": [
    {
     "data": {
      "text/plain": [
       "[501.08000000000004, 410.40299999999996]"
      ]
     },
     "execution_count": 159,
     "metadata": {},
     "output_type": "execute_result"
    }
   ],
   "source": [
    "[np.mean(list(hybrid[num][1] * (1-ilp[num][0]) )) for num in [20, 30]]"
   ]
  }
 ],
 "metadata": {
  "kernelspec": {
   "display_name": "Python 3",
   "language": "python",
   "name": "python3"
  },
  "language_info": {
   "codemirror_mode": {
    "name": "ipython",
    "version": 3
   },
   "file_extension": ".py",
   "mimetype": "text/x-python",
   "name": "python",
   "nbconvert_exporter": "python",
   "pygments_lexer": "ipython3",
   "version": "3.6.3"
  }
 },
 "nbformat": 4,
 "nbformat_minor": 2
}
