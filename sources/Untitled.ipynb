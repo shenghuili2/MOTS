{
 "cells": [
  {
   "cell_type": "code",
   "execution_count": 15,
   "metadata": {
    "scrolled": true
   },
   "outputs": [
    {
     "name": "stdout",
     "output_type": "stream",
     "text": [
      "AFT\n",
      "ub, lb:  147.0 101\n"
     ]
    },
    {
     "ename": "TypeError",
     "evalue": "'NoneType' object is not subscriptable",
     "output_type": "error",
     "traceback": [
      "\u001b[0;31m---------------------------------------------------------------------------\u001b[0m",
      "\u001b[0;31mTypeError\u001b[0m                                 Traceback (most recent call last)",
      "\u001b[0;32m<ipython-input-15-a63cdb506808>\u001b[0m in \u001b[0;36m<module>\u001b[0;34m()\u001b[0m\n\u001b[1;32m     19\u001b[0m \u001b[0;31m#ilp_model = ILPSolver(dag, platform)\u001b[0m\u001b[0;34m\u001b[0m\u001b[0;34m\u001b[0m\u001b[0m\n\u001b[1;32m     20\u001b[0m \u001b[0;31m#result = ilp_model.optimize()\u001b[0m\u001b[0;34m\u001b[0m\u001b[0;34m\u001b[0m\u001b[0m\n\u001b[0;32m---> 21\u001b[0;31m \u001b[0mresult\u001b[0m \u001b[0;34m=\u001b[0m \u001b[0mlbbd_\u001b[0m\u001b[0;34m.\u001b[0m\u001b[0mlbbd\u001b[0m\u001b[0;34m(\u001b[0m\u001b[0mdag\u001b[0m\u001b[0;34m,\u001b[0m \u001b[0mplatform\u001b[0m\u001b[0;34m)\u001b[0m\u001b[0;34m\u001b[0m\u001b[0m\n\u001b[0m\u001b[1;32m     22\u001b[0m \u001b[0mresult_list\u001b[0m\u001b[0;34m.\u001b[0m\u001b[0mappend\u001b[0m\u001b[0;34m(\u001b[0m\u001b[0mresult\u001b[0m\u001b[0;34m)\u001b[0m\u001b[0;34m\u001b[0m\u001b[0m\n",
      "\u001b[0;32m~/Mows/lbbd_.py\u001b[0m in \u001b[0;36mlbbd\u001b[0;34m(wf, crs)\u001b[0m\n\u001b[1;32m    530\u001b[0m         \u001b[0mself\u001b[0m\u001b[0;34m.\u001b[0m\u001b[0mtsk_placement\u001b[0m\u001b[0;34m[\u001b[0m\u001b[0mk\u001b[0m\u001b[0;34m[\u001b[0m\u001b[0;36m0\u001b[0m\u001b[0;34m]\u001b[0m\u001b[0;34m]\u001b[0m \u001b[0;34m=\u001b[0m \u001b[0mk\u001b[0m\u001b[0;34m[\u001b[0m\u001b[0;36m1\u001b[0m\u001b[0;34m]\u001b[0m\u001b[0;34m\u001b[0m\u001b[0m\n\u001b[1;32m    531\u001b[0m \u001b[0;34m\u001b[0m\u001b[0m\n\u001b[0;32m--> 532\u001b[0;31m     \u001b[0;32mdef\u001b[0m \u001b[0mset_start\u001b[0m\u001b[0;34m(\u001b[0m\u001b[0mself\u001b[0m\u001b[0;34m)\u001b[0m\u001b[0;34m:\u001b[0m\u001b[0;34m\u001b[0m\u001b[0m\n\u001b[0m\u001b[1;32m    533\u001b[0m         \u001b[0;32mpass\u001b[0m\u001b[0;34m\u001b[0m\u001b[0m\n\u001b[1;32m    534\u001b[0m \u001b[0;34m\u001b[0m\u001b[0m\n",
      "\u001b[0;32m~/Mows/lbbd_.py\u001b[0m in \u001b[0;36mupdateDL\u001b[0;34m(self, gz)\u001b[0m\n\u001b[1;32m    216\u001b[0m                 \u001b[0;32mfor\u001b[0m \u001b[0mr\u001b[0m \u001b[0;32min\u001b[0m \u001b[0mself\u001b[0m\u001b[0;34m.\u001b[0m\u001b[0mcrs\u001b[0m\u001b[0;34m.\u001b[0m\u001b[0mnodes\u001b[0m\u001b[0;34m(\u001b[0m\u001b[0;34m)\u001b[0m\u001b[0;34m:\u001b[0m\u001b[0;34m\u001b[0m\u001b[0m\n\u001b[1;32m    217\u001b[0m                     \u001b[0mR_s\u001b[0m \u001b[0;34m=\u001b[0m \u001b[0mmin\u001b[0m\u001b[0;34m(\u001b[0m\u001b[0;34m[\u001b[0m\u001b[0mself\u001b[0m\u001b[0;34m.\u001b[0m\u001b[0mdi\u001b[0m\u001b[0;34m[\u001b[0m\u001b[0mi\u001b[0m\u001b[0;34m]\u001b[0m \u001b[0;32mfor\u001b[0m \u001b[0mi\u001b[0m \u001b[0;32min\u001b[0m \u001b[0mS\u001b[0m\u001b[0;34m]\u001b[0m\u001b[0;34m)\u001b[0m\u001b[0;34m\u001b[0m\u001b[0m\n\u001b[0;32m--> 218\u001b[0;31m                     \u001b[0mwin\u001b[0m\u001b[0;34m.\u001b[0m\u001b[0maddConstr\u001b[0m\u001b[0;34m(\u001b[0m\u001b[0mR_s\u001b[0m \u001b[0;34m+\u001b[0m \u001b[0msum\u001b[0m\u001b[0;34m(\u001b[0m\u001b[0mx_jk\u001b[0m\u001b[0;34m[\u001b[0m\u001b[0mj\u001b[0m\u001b[0;34m,\u001b[0m \u001b[0mr\u001b[0m\u001b[0;34m]\u001b[0m \u001b[0;34m*\u001b[0m \u001b[0mself\u001b[0m\u001b[0;34m.\u001b[0m\u001b[0mwf\u001b[0m\u001b[0;34m.\u001b[0m\u001b[0mnode\u001b[0m\u001b[0;34m[\u001b[0m\u001b[0mj\u001b[0m\u001b[0;34m]\u001b[0m\u001b[0;34m[\u001b[0m\u001b[0mr\u001b[0m\u001b[0;34m]\u001b[0m \u001b[0;32mfor\u001b[0m \u001b[0mj\u001b[0m \u001b[0;32min\u001b[0m \u001b[0mS\u001b[0m\u001b[0;34m)\u001b[0m \u001b[0;34m<=\u001b[0m \u001b[0mz_u\u001b[0m\u001b[0;34m)\u001b[0m\u001b[0;34m\u001b[0m\u001b[0m\n\u001b[0m\u001b[1;32m    219\u001b[0m \u001b[0;34m\u001b[0m\u001b[0m\n\u001b[1;32m    220\u001b[0m             \u001b[0mwin\u001b[0m\u001b[0;34m.\u001b[0m\u001b[0msetObjective\u001b[0m\u001b[0;34m(\u001b[0m\u001b[0mz_u\u001b[0m\u001b[0;34m,\u001b[0m \u001b[0mGRB\u001b[0m\u001b[0;34m.\u001b[0m\u001b[0mMINIMIZE\u001b[0m\u001b[0;34m)\u001b[0m\u001b[0;34m\u001b[0m\u001b[0m\n",
      "\u001b[0;31mTypeError\u001b[0m: 'NoneType' object is not subscriptable"
     ]
    }
   ],
   "source": [
    "from gurobipy import *\n",
    "import networkx as nx\n",
    "import matplotlib.pyplot as plt\n",
    "from workflow import *\n",
    "from pilp import *\n",
    "import lbbd_\n",
    "\n",
    "num_nodes, num_cores, dag = 20, 5， 1\n",
    "result_list = []\n",
    "\n",
    "workflow_path = \"./SyntheticSettings/DAGs/%d nodes/%d Cores/dag%d_%dn_%dc.gexf\"%\\\n",
    "                (num_nodes, num_cores, dag, num_nodes, num_cores)\n",
    "system_path = \"./SyntheticSettings/Systems/%dCoreSys.gexf\" % num_cores\n",
    "\n",
    "dag = load_dag(workflow_path)\n",
    "platform = nx.read_gexf(system_path)\n",
    "\n",
    "# for u, v in dag.edges():\n",
    "#     dag[u][v]['data'] = 0\n",
    "#ilp_model = ILPSolver(dag, platform)\n",
    "#result = ilp_model.optimize()\n",
    "result = lbbd_.lbbd(dag, platform)\n",
    "result_list.append(result)\n"
   ]
  },
  {
   "cell_type": "code",
   "execution_count": 52,
   "metadata": {},
   "outputs": [
    {
     "data": {
      "text/plain": [
       "OutEdgeView([('1', '2'), ('1', '3'), ('1', '8'), ('1', '14'), ('2', '5'), ('2', '13'), ('2', '18'), ('2', '12'), ('2', '22'), ('2', '6'), ('2', '26'), ('2', '28'), ('2', '20'), ('3', '13'), ('3', '20'), ('3', '24'), ('3', '26'), ('3', '28'), ('3', '5'), ('3', '29'), ('8', '5'), ('8', '18'), ('8', '13'), ('8', '22'), ('8', '24'), ('8', '26'), ('8', '28'), ('8', '12'), ('8', '29'), ('14', '12'), ('14', '29'), ('5', 'des'), ('13', 'des'), ('18', 'des'), ('12', 'des'), ('22', 'des'), ('6', 'des'), ('26', 'des'), ('28', 'des'), ('20', 'des'), ('24', 'des'), ('29', 'des'), ('4', '25'), ('25', '2'), ('25', '3'), ('25', '8'), ('25', '14'), ('7', '4'), ('7', '10'), ('7', '15'), ('7', '19'), ('7', '30'), ('10', '1'), ('10', '9'), ('10', '16'), ('10', '17'), ('10', '25'), ('10', '27'), ('15', '17'), ('15', '27'), ('19', '1'), ('19', '9'), ('19', '16'), ('19', '17'), ('19', '25'), ('19', '27'), ('30', '25'), ('9', '2'), ('9', '3'), ('9', '8'), ('9', '14'), ('16', '2'), ('16', '3'), ('16', '14'), ('17', '8'), ('27', '2'), ('27', '3'), ('27', '8'), ('11', '4'), ('11', '10'), ('11', '15'), ('11', '19'), ('11', '30'), ('21', '10'), ('21', '4'), ('21', '19'), ('21', '30'), ('23', '4'), ('23', '10'), ('23', '15'), ('23', '19'), ('23', '30'), ('src', '7'), ('src', '11'), ('src', '21'), ('src', '23')])"
      ]
     },
     "execution_count": 52,
     "metadata": {},
     "output_type": "execute_result"
    }
   ],
   "source": [
    "dag.edges()"
   ]
  },
  {
   "cell_type": "code",
   "execution_count": 8,
   "metadata": {},
   "outputs": [
    {
     "data": {
      "text/plain": [
       "23"
      ]
     },
     "execution_count": 8,
     "metadata": {},
     "output_type": "execute_result"
    }
   ],
   "source": [
    "dag.node['1']['Core1']"
   ]
  },
  {
   "cell_type": "code",
   "execution_count": 45,
   "metadata": {},
   "outputs": [
    {
     "name": "stdout",
     "output_type": "stream",
     "text": [
      "['2']\n"
     ]
    }
   ],
   "source": [
    "from gurobipy import *\n",
    "import networkx as nx\n",
    "import matplotlib.pyplot as plt\n",
    "from workflow import *\n",
    "from pilp import *\n",
    "\n",
    "num_nodes, num_cores, dag = 20, 5,11\n",
    "result_list = []\n",
    "\n",
    "workflow_path = \"./SyntheticSettings/DAGs/%d nodes/%d Cores/dag%d_%dn_%dc.gexf\"%\\\n",
    "                (num_nodes, num_cores, dag, num_nodes, num_cores)\n",
    "system_path = \"./SyntheticSettings/Systems/%dCoreSys.gexf\" % num_cores\n",
    "\n",
    "dag = load_dag(workflow_path)\n",
    "platform = nx.read_gexf(system_path)\n",
    "platform['Core2']['Core1']['bandwidth']\n",
    "print (list(dag.predecessors('4')))"
   ]
  },
  {
   "cell_type": "code",
   "execution_count": 5,
   "metadata": {},
   "outputs": [
    {
     "data": {
      "image/png": "[encoded data removed]",
      "text/plain": [
       "<matplotlib.figure.Figure at 0x7f7a1328ee10>"
      ]
     },
     "metadata": {},
     "output_type": "display_data"
    }
   ],
   "source": [
    "nx.draw(platform,with_labels=True)\n",
    "\n",
    "\n"
   ]
  }
 ],
 "metadata": {
  "kernelspec": {
   "display_name": "Python 3",
   "language": "python",
   "name": "python3"
  },
  "language_info": {
   "codemirror_mode": {
    "name": "ipython",
    "version": 3
   },
   "file_extension": ".py",
   "mimetype": "text/x-python",
   "name": "python",
   "nbconvert_exporter": "python",
   "pygments_lexer": "ipython3",
   "version": "3.6.3"
  }
 },
 "nbformat": 4,
 "nbformat_minor": 2
}
